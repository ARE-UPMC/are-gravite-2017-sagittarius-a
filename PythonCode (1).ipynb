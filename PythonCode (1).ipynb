{
 "cells": [
  {
   "cell_type": "code",
   "execution_count": 1,
   "metadata": {
    "collapsed": false
   },
   "outputs": [
    {
     "name": "stdout",
     "output_type": "stream",
     "text": [
      "Using matplotlib backend: Qt5Agg\n"
     ]
    }
   ],
   "source": [
    "%matplotlib\n",
    "import numpy as np\n",
    "from matplotlib import pyplot as plt\n",
    "from matplotlib import animation\n",
    "\n",
    "\n",
    "def al_to_kparsec(al):\n",
    "    return (al/1000)*306.601\n",
    "\n",
    "def kparsec_to_al(kparsec):\n",
    "    return kparsec*3261.6\n",
    "\n",
    "def Vkpc_to_al(kpc):\n",
    "    return kpc*1.029e+17\n",
    "\n",
    "def coef(radius,vitesse):\n",
    "    echelledist=10000\n",
    "    echelletemps=0.1\n",
    "    perimetre=radius*3.14159265*2*echelledist\n",
    "    Ttotale=(perimetre/vitesse)*echelletemps\n",
    "    #26 secondes\n",
    "    coef=11/Ttotale\n",
    "    return coef\n",
    "    \n",
    "def nvlle(name,rad,NEW_ou_MOND,couleur) :\n",
    "    global n\n",
    "    n=n+1\n",
    "    name=plt.Circle((5, -5), size, fc=couleur)\n",
    "    radius.append(rad)\n",
    "    nom.append(name)\n",
    "    if (NEW_ou_MOND==0):\n",
    "        coeffic.append(coef(rad,Vkpc_to_al(s0/((1+(al_to_kparsec(rad*10**4))**2+rc**2)**3/2))))\n",
    "    else:\n",
    "        coeffic.append(coef(rad,655))\n",
    "    return\n",
    "\n",
    "\n",
    "\n",
    "def init():\n",
    "    for i in range(n) :\n",
    "        ax.add_patch(nom[i])\n",
    "    return nom\n",
    "\n",
    "def animate(t):\n",
    "    for i in range(n) :\n",
    "        x,y = nom[i].center\n",
    "        nom[i].center=(xcenter+radius[i] * np.sin(np.radians(t*coeffic[i])),xcenter+radius[i] * np.cos(np.radians(t*coeffic[i])))\n",
    "    '''t1=t*coeffic[0]\n",
    "    t2=t*coeffic[1]  #mettre le radius en dizaine de milliers d'années lumières et la vitesse en années lumières/millions d'années\n",
    "    t3=t*coeffic[2]\n",
    "    x3=xcenter+radius[2] * np.sin(np.radians(t3))\n",
    "    y3=ycenter+radius[2] * np.cos(np.radians(t3))\n",
    "    x2=xcenter+radius[1] * np.sin(np.radians(t2))\n",
    "    y2=ycenter+radius[1] * np.cos(np.radians(t2))\n",
    "    x=xcenter+radius[0] * np.sin(np.radians(t1))\n",
    "    y=xcenter+radius[0] * np.cos(np.radians(t1))\n",
    "    patch.center=(x,y)\n",
    "    soleil.center=(x2,y2)\n",
    "    saturne.center=(x3,y3)'''\n",
    "    #plt.plot(x,y,'ro')\n",
    "    return nom\n",
    "\n",
    "def model(nbEtoile):\n",
    "    variable=[]\n",
    "    for i in range(nbEtoile):\n",
    "        variable.append(['E'+str(i)])\n",
    "        j=i\n",
    "        if i==0:\n",
    "            j=0.1\n",
    "        nvlle(variable[i],j*0.1,1,'b')\n",
    "    return\n",
    "\n",
    "\n",
    "\n",
    "global radius\n",
    "global size\n",
    "global coeffic\n",
    "global s0\n",
    "global nom\n",
    "s0=2.3*10**40/1**2 # en kg/kpc^2\n",
    "rc=1 # en kpc\n",
    "coeffic=[]\n",
    "radius=[]\n",
    "nom=[]\n",
    "global n\n",
    "n=0\n",
    "fig=plt.figure()\n",
    "fig.set_dpi(100)\n",
    "fig.set_size_inches(7,6.5)\n",
    "\n",
    "ax = plt.axes(xlim=(0,10),ylim=(0,10),)\n",
    "\n",
    "\n",
    "\n",
    "size = 0.01\n",
    "xcenter = 5\n",
    "ycenter = 5\n",
    "#1 unité = 10 000 années lumières\n",
    "#1 seconde = 10 million d'années\n",
    "echelledist=10000\n",
    "echelletemps=0.1\n",
    "plt.plot(5,5,'.',color='black')\n",
    "\n",
    "\n",
    "'''nvlle(E1,4,1,'b')\n",
    "nvlle(soleil,2.7,1,'b')\n",
    "nvlle(E2,2,1,'b')\n",
    "nvlle(E3,3,1,'b')'''\n",
    "\n",
    "\n",
    "model(50)\n",
    "\n",
    "anim=animation.FuncAnimation(fig,animate,init_func=init,frames=10000,interval=20, blit=True)\n",
    "\n",
    "plt.show()"
   ]
  },
  {
   "cell_type": "markdown",
   "metadata": {},
   "source": [
    "Vitesse = 656.37 années lumière par million d'années\n",
    "Distance en 1 rotation = 169646.0031 années lumière"
   ]
  },
  {
   "cell_type": "code",
   "execution_count": 19,
   "metadata": {
    "collapsed": false
   },
   "outputs": [
    {
     "name": "stdout",
     "output_type": "stream",
     "text": [
      "4.922156249999999e+39\n"
     ]
    }
   ],
   "source": [
    "G=(6.66*10**(-11))*2.5*10**(9) #en kpc^2.kg^-1.s-2, constante de gravitation universelle\n",
    "a0=(1.1*10**(-10))*2.5*10**(9) # kpc.s-2, constante de Milgrom\n",
    "M=4.3*10**(41) # en kg, masse de la galaxie\n",
    "v=(G*M*a0)**1/4\n",
    "print(v)"
   ]
  },
  {
   "cell_type": "code",
   "execution_count": null,
   "metadata": {
    "collapsed": true
   },
   "outputs": [],
   "source": [
    "s0=2.3*10**40/1**2 # en kg/kpc^2\n",
    "rc=1 # en kpc\n",
    "\n",
    "s=s0/((1+x**2+rc**2)**3/2)"
   ]
  },
  {
   "cell_type": "markdown",
   "metadata": {},
   "source": [
    "1 kparsec = 3261,6 al\n",
    "1000 al = 306,601 kparsec\n",
    "1 kpc/s = 1.029e+17 al/millions années"
   ]
  },
  {
   "cell_type": "code",
   "execution_count": 23,
   "metadata": {
    "collapsed": false
   },
   "outputs": [
    {
     "name": "stdout",
     "output_type": "stream",
     "text": [
      "50\n"
     ]
    }
   ],
   "source": [
    "from tkinter import *\n",
    "\n",
    "def maj(nouvelleValeur):\n",
    "    # nouvelle valeur en argument\n",
    "    print(nouvelleValeur)\n",
    "def plus():\n",
    "    Valeur.set(str(int(Valeur.get())+10))\n",
    "    print(Valeur.get())\n",
    "def moins():\n",
    "    Valeur.set(str(int(Valeur.get())-10))\n",
    "    print(Valeur.get())\n",
    "\n",
    "# Création de la fenêtre principale (main window)\n",
    "Mafenetre = Tk()\n",
    "Mafenetre.title(\"Scale widget\")\n",
    "\n",
    "Valeur = StringVar()\n",
    "Valeur.set(50)\n",
    "# Création d'un widget Scale\n",
    "echelle = Scale(Mafenetre,from_=-100,to=100,resolution=10,orient=HORIZONTAL,\\\n",
    "length=300,width=20,label=\"Offset\",tickinterval=20,variable=Valeur,command=maj)\n",
    "echelle.pack(padx=10,pady=10)\n",
    "\n",
    "# Création d'un widget Button (bouton +)\n",
    "Button(Mafenetre,text=\"+\",command=plus).pack(padx=10,pady=10)\n",
    "\n",
    "# Création d'un widget Button (bouton -)\n",
    "Button(Mafenetre,text=\"-\",command=moins).pack(padx=10,pady=10)\n",
    "\n",
    "Mafenetre.mainloop()"
   ]
  },
  {
   "cell_type": "code",
   "execution_count": 24,
   "metadata": {
    "collapsed": false
   },
   "outputs": [
    {
     "data": {
      "text/plain": [
       "4.922156249999999e+39"
      ]
     },
     "execution_count": 24,
     "metadata": {},
     "output_type": "execute_result"
    }
   ],
   "source": [
    "4.922156249999999e+39"
   ]
  },
  {
   "cell_type": "code",
   "execution_count": 35,
   "metadata": {
    "collapsed": false
   },
   "outputs": [
    {
     "data": {
      "text/plain": [
       "1.029e+17"
      ]
     },
     "execution_count": 35,
     "metadata": {},
     "output_type": "execute_result"
    }
   ],
   "source": [
    "1.029e+11*10**6\n"
   ]
  },
  {
   "cell_type": "code",
   "execution_count": null,
   "metadata": {
    "collapsed": true
   },
   "outputs": [],
   "source": [
    "%matplotlib\n",
    "import numpy as np\n",
    "from matplotlib import pyplot as plt\n",
    "from matplotlib import animation\n",
    "\n",
    "def al_to_kparsec(al):\n",
    "    return (al/1000)*306.601\n",
    "\n",
    "def kparsec_to_al(kparsec):\n",
    "    return kparsec*3261.6\n",
    "\n",
    "def Vkpc_to_al(kpc):\n",
    "    return kpc*1.029e+17\n",
    "\n",
    "def coef(radius,vitesse):\n",
    "    echelledist=10000\n",
    "    echelletemps=0.1\n",
    "    perimetre=radius*3.14159265*2*echelledist\n",
    "    Ttotale=(perimetre/vitesse)*echelletemps\n",
    "    #26 secondes\n",
    "    coef=11/Ttotale\n",
    "    return coef\n",
    "    \n",
    "def nvlle(rad,NEW_ou_MOND,couleur) :\n",
    "    global n\n",
    "    n=n+1\n",
    "    radius.append(rad)\n",
    "    if (NEW_ou_MOND==0):\n",
    "        coeffic.append(coef(rad,Vkpc_to_al(s0/((1+(al_to_kparsec(rad*10**4))**2+rc**2)**3/2))))\n",
    "    else:\n",
    "        coeffic.append(coef(rad,655))\n",
    "    return\n",
    "\n",
    "\n",
    "\n",
    "def init():\n",
    "    ax.add_patch(patch.center)\n",
    "    ax.add_patch(soleil.center)\n",
    "    ax.add_patch(saturne.center)\n",
    "    return patch,soleil,saturne,\n",
    "\n",
    "def animate(t):\n",
    "    x,y = patch.center\n",
    "    x,y = soleil.center\n",
    "    x,y = saturne.center\n",
    "    patch.center=(xcenter+radius[0] * np.sin(np.radians(t*coeffic[0])),ycenter+radius[0] * np.cos(np.radians(t*coeffic[0])))\n",
    "    soleil.center=(xcenter+radius[1] * np.sin(np.radians(t*coeffic[1])),ycenter+radius[1] * np.cos(np.radians(t*coeffic[1])))\n",
    "    saturne.center=(xcenter+radius[2] * np.sin(np.radians(t*coeffic[2])),ycenter+radius[2] * np.cos(np.radians(t*coeffic[2])))\n",
    "    '''t1=t*coeffic[0]\n",
    "    t2=t*coeffic[1]  #mettre le radius en dizaine de milliers d'années lumières et la vitesse en années lumières/millions d'années\n",
    "    t3=t*coeffic[2]\n",
    "    x3=xcenter+radius[2] * np.sin(np.radians(t3))\n",
    "    y3=ycenter+radius[2] * np.cos(np.radians(t3))\n",
    "    x2=xcenter+radius[1] * np.sin(np.radians(t2))\n",
    "    y2=ycenter+radius[1] * np.cos(np.radians(t2))\n",
    "    x=xcenter+radius[0] * np.sin(np.radians(t1))\n",
    "    y=xcenter+radius[0] * np.cos(np.radians(t1))\n",
    "    patch.center=(x,y)\n",
    "    soleil.center=(x2,y2)\n",
    "    saturne.center=(x3,y3)'''\n",
    "    #plt.plot(x,y,'ro')\n",
    "    return patch,soleil,saturne,\n",
    "\n",
    "\n",
    "\n",
    "\n",
    "global radius\n",
    "global size\n",
    "global coeffic\n",
    "global s0\n",
    "global nom\n",
    "s0=2.3*10**40/1**2 # en kg/kpc^2\n",
    "rc=1 # en kpc\n",
    "coeffic=[]\n",
    "radius=[]\n",
    "nom=[]\n",
    "global n\n",
    "n=0\n",
    "fig=plt.figure()\n",
    "fig.set_dpi(100)\n",
    "fig.set_size_inches(7,6.5)\n",
    "\n",
    "ax = plt.axes(xlim=(0,10),ylim=(0,10),)\n",
    "\n",
    "\n",
    "\n",
    "size = 0.01\n",
    "xcenter = 5\n",
    "ycenter = 5\n",
    "#1 unité = 10 000 années lumières\n",
    "#1 seconde = 10 million d'années\n",
    "echelledist=10000\n",
    "echelletemps=0.1\n",
    "plt.plot(5,5,'.',color='black')\n",
    "patch=plt.Circle((5, -5), size, fc='b')\n",
    "soleil= plt.Circle((5, -5), size, fc='red')\n",
    "saturne= plt.Circle((5, -5), size, fc='yellow')\n",
    "nvlle(4,1,'b')\n",
    "nvlle(2.7,1,'red')\n",
    "nvlle(2,1,'yellow')\n",
    "\n",
    "anim=animation.FuncAnimation(fig,animate,init_func=init,frames=10000,interval=20, blit=True)\n",
    "\n",
    "plt.show()"
   ]
  }
 ],
 "metadata": {
  "anaconda-cloud": {},
  "kernelspec": {
   "display_name": "Python [default]",
   "language": "python",
   "name": "python3"
  },
  "language_info": {
   "codemirror_mode": {
    "name": "ipython",
    "version": 3
   },
   "file_extension": ".py",
   "mimetype": "text/x-python",
   "name": "python",
   "nbconvert_exporter": "python",
   "pygments_lexer": "ipython3",
   "version": "3.5.2"
  }
 },
 "nbformat": 4,
 "nbformat_minor": 0
}
