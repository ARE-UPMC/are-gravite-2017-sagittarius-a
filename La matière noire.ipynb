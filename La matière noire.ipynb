{
 "cells": [
  {
   "cell_type": "code",
   "execution_count": null,
   "metadata": {
    "collapsed": true
   },
   "outputs": [],
   "source": []
  },
  {
   "cell_type": "code",
   "execution_count": 2,
   "metadata": {
    "collapsed": false
   },
   "outputs": [
    {
     "data": {
      "image/png": "[encoded data removed]",
      "text/plain": [
       "<matplotlib.figure.Figure at 0x503f410>"
      ]
     },
     "metadata": {},
     "output_type": "display_data"
    }
   ],
   "source": [
    "%matplotlib inline\n",
    "import matplotlib.pyplot as plt\n",
    "labels = 'energie sombre', 'matiere noire', 'matiere ordinaire'\n",
    "sizes = [68.3,26.8,4.9]\n",
    "colors = ['blue', 'blue', 'lightskyblue']\n",
    "explode=[0.15,0.15,0.15]\n",
    "plt.pie( sizes, explode=explode, labels=labels, colors=colors, \n",
    "        autopct='%1.1f%%', shadow=True, startangle=90)\n",
    "\n",
    "plt.axis('equal')\n",
    "\n",
    "plt.show()"
   ]
  },
  {
   "cell_type": "markdown",
   "metadata": {},
   "source": [
    "##### Remarque : les calculs suivants sont simplifiés."
   ]
  },
  {
   "cell_type": "markdown",
   "metadata": {},
   "source": [
    "### Théorie de MOND (Modified Newton Dynamics) : résoudre le problème de la rotation trop rapide des étoiles et galaxies."
   ]
  },
  {
   "cell_type": "markdown",
   "metadata": {},
   "source": [
    "###### D'après les lois de Newton, on peut écrire une expression de a en fonction de v et de r, et en fonction de G, M et r :"
   ]
  },
  {
   "cell_type": "markdown",
   "metadata": {},
   "source": [
    "a = G*M/r**2"
   ]
  },
  {
   "cell_type": "markdown",
   "metadata": {},
   "source": [
    "##### où a est l'accélération, v la vitesse du corps que l'on étudie, G la constante de gravitation universelle, M la masse de la galaxie et r où r est la distance entre les 2 masses qui s'attirent."
   ]
  },
  {
   "cell_type": "markdown",
   "metadata": {},
   "source": [
    "##### La masse de la galaxie est donnée par :"
   ]
  },
  {
   "cell_type": "markdown",
   "metadata": {},
   "source": [
    "M = pi*(Rmax)**2*e*p"
   ]
  },
  {
   "cell_type": "markdown",
   "metadata": {},
   "source": [
    "##### où Rmax est le rayon de la galaxie, e l'épaisseur de la galaxie et p sa masse volumique."
   ]
  },
  {
   "cell_type": "markdown",
   "metadata": {},
   "source": [
    "##### Si on suppose que la totalité de la masse se trouve à l'intérieur du rayon (ce qui est en réalité une approximation),  on peut déduire le rayon de la galaxie, qui est alors environ égal à r :"
   ]
  },
  {
   "cell_type": "markdown",
   "metadata": {},
   "source": [
    "Rmax = sqrt(M/pi*e*p)"
   ]
  },
  {
   "cell_type": "markdown",
   "metadata": {},
   "source": [
    "##### Cela nous donne  alors, avec la première équation, une expression de la vitesse :"
   ]
  },
  {
   "cell_type": "markdown",
   "metadata": {},
   "source": [
    "v = sqrt(G)*(M*pi*e*p)**(1/4)"
   ]
  },
  {
   "cell_type": "markdown",
   "metadata": {},
   "source": [
    "### Equation Newtonienne."
   ]
  },
  {
   "cell_type": "markdown",
   "metadata": {},
   "source": [
    "##### La seconde loi de Newton conduit à une expression de l'accélération, en fonction de la constante gravitationnelle, de la masse du corps qui attire l'objet et de la distance entre les deux :"
   ]
  },
  {
   "cell_type": "markdown",
   "metadata": {},
   "source": [
    "a = G*M/r**2"
   ]
  },
  {
   "cell_type": "markdown",
   "metadata": {},
   "source": [
    "##### On observe alors que dans cette théorie, l'attraction de deux corps décroît comme le carré de leur distance l'un à l'autre. Mordehai Milgrom, auteur de la théorie de MOND n'est pas en accord avec cela."
   ]
  },
  {
   "cell_type": "markdown",
   "metadata": {},
   "source": [
    "### Modification de la loi de Newton par Mordehai Milgrom."
   ]
  },
  {
   "cell_type": "markdown",
   "metadata": {},
   "source": [
    "##### Il postule alors qu'au lieu de la traditionnelle \"F=ma\", la formule la plus juste est :"
   ]
  },
  {
   "cell_type": "markdown",
   "metadata": {},
   "source": [
    "F = m*u(a/ao)*a, avec u(x)= 1 si x>>1 et u(x) = x sinon."
   ]
  },
  {
   "cell_type": "markdown",
   "metadata": {},
   "source": [
    "##### De plus, avec une bonne approximation, la force gravitationnelle est :"
   ]
  },
  {
   "cell_type": "markdown",
   "metadata": {},
   "source": [
    "F = G*M*m/r**2"
   ]
  },
  {
   "cell_type": "markdown",
   "metadata": {},
   "source": [
    "##### Puisque a est très petit devant a0, on a :"
   ]
  },
  {
   "cell_type": "markdown",
   "metadata": {},
   "source": [
    "u(a/a0) = a/a0 et a = (sqrt(G*M*a0))/r"
   ]
  },
  {
   "cell_type": "markdown",
   "metadata": {},
   "source": [
    "##### On a alors la vitesse de rotation : "
   ]
  },
  {
   "cell_type": "markdown",
   "metadata": {},
   "source": [
    "v =(G*M*a0)**(1/4)"
   ]
  },
  {
   "cell_type": "code",
   "execution_count": 6,
   "metadata": {
    "collapsed": false
   },
   "outputs": [
    {
     "data": {
      "image/png": "[encoded data removed]",
      "text/plain": [
       "<matplotlib.figure.Figure at 0x671a5f0>"
      ]
     },
     "metadata": {},
     "output_type": "display_data"
    }
   ],
   "source": [
    "from pylab import *\n",
    "G=6.6742*10**(-11)\n",
    "a0=1.2*10**(-10)\n",
    "M=4.2*10**(41)\n",
    "x = np.linspace(-50, 50, 256)\n",
    "v=(G*M*a0)**1/4+x-x\n",
    "sinx = np.sin(x)\n",
    "figure(figsize=(10,6), dpi=80)\n",
    "plot(x, sinx, color=\"blue\", linewidth=2.5, linestyle=\"-\", label=\"théorique\")\n",
    "plot(x, v, color=\"red\",  linewidth=2.5, linestyle=\"-\", label=\"observée\")\n",
    "\n",
    "xmin ,xmax = x.min(), x.max()\n",
    "ymin, ymax = v.min(), v.max()\n",
    "dx = (xmax - xmin) * 0.2\n",
    "dy = (ymax - ymin) * 0.2\n",
    "xlim(xmin - dx, xmax + dx)\n",
    "ylim(ymin - dy, ymax + dy)\n",
    "\n",
    "xticks([-50, -25, 0, 25, 50],\n",
    "       [r'$-50$', r'$-25$', r'$0$', r'$+25$', r'$+50$'])\n",
    "yticks([0, 0, 9*10**(20)],\n",
    "       [r'$0$', r'$0$', r'$9*10**(20)$'])\n",
    "\n",
    "ax = gca()\n",
    "ax.spines['right'].set_color('none')\n",
    "ax.spines['top'].set_color('none')\n",
    "ax.xaxis.set_ticks_position('bottom')\n",
    "ax.spines['bottom'].set_position(('data',0))\n",
    "ax.yaxis.set_ticks_position('left')\n",
    "ax.spines['left'].set_position(('data',0))\n",
    "\n",
    "legend(loc='upper left')\n",
    "\n",
    "show()"
   ]
  },
  {
   "cell_type": "code",
   "execution_count": null,
   "metadata": {
    "collapsed": false
   },
   "outputs": [],
   "source": [
    "G=6.6742*10**(-11) m3.kg-1.s-2\n",
    "a0=1.2*10**(-10) m.s-2\n",
    "M=4.2*10**(41) kg\n",
    "v=(G*M*a0)**1/4\n",
    "print(v)"
   ]
  },
  {
   "cell_type": "markdown",
   "metadata": {},
   "source": [
    "##### La valeur de a0 (en m.s-2) est la valeur que Milgrom a déterminé pour sa constante à partir d'observations astrophysiques, la valeur de G est celle de la constante universelle de gravitation (en m3.kg-1.s-2) et M est égale à la masse de la Voie Lactée (en kg)."
   ]
  },
  {
   "cell_type": "code",
   "execution_count": null,
   "metadata": {
    "collapsed": true
   },
   "outputs": [],
   "source": [
    "R0 = 27500*10**13\n",
    "\n",
    "w=w0+Vmes/R0*sin(l)"
   ]
  },
  {
   "cell_type": "code",
   "execution_count": null,
   "metadata": {
    "collapsed": true
   },
   "outputs": [],
   "source": []
  }
 ],
 "metadata": {
  "kernelspec": {
   "display_name": "Python 3",
   "language": "python",
   "name": "python3"
  },
  "language_info": {
   "codemirror_mode": {
    "name": "ipython",
    "version": 3
   },
   "file_extension": ".py",
   "mimetype": "text/x-python",
   "name": "python",
   "nbconvert_exporter": "python",
   "pygments_lexer": "ipython3",
   "version": "3.4.1"
  }
 },
 "nbformat": 4,
 "nbformat_minor": 0
}
