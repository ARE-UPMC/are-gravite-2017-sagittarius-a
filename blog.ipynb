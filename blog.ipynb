{
 "cells": [
  {
   "cell_type": "markdown",
   "metadata": {},
   "source": [
    "# Voie Lactée et matière noire\n",
    "## Etudiants: BOUCROT Marion, NICOLLE Sabine, MALLET Julien, CARRET Romain"
   ]
  },
  {
   "cell_type": "markdown",
   "metadata": {},
   "source": [
    "### Semaine 1\n",
    "\n",
    "Videos pour podcast, reflexion sur la forme du podcast\n",
    "Recherche sur physique hydrogène, coord galactique, voie lactée caractéristique de la galaxie, matière noire et courbe de rotation, lois de kepler, effet doppler (blue shift, red shift), theorie MOND.\n",
    "Debut de reflexion sur le code python.\n",
    "\n",
    "\n",
    "### Semaine 2\n",
    "\n",
    "fin des recherche sur la theorie MOND (formules et calculs)\n",
    "/*nous allons parler des différentes theories qui se sont succedées et montrer comment nous sommes arrivé à la theorie de la matiere noire. \n",
    "*/\n",
    "\n",
    "courbe vitesse rotation\n",
    "mesure antenne, recuperation spectre.\n",
    "\n",
    "avancé sur le code python pour la simulation gravité 2 corps.\n",
    "probleme d'echelle.\n",
    "\n",
    "### Semaine 3\n",
    "Bla Bla\n",
    "### Semaine 4\n",
    "Bla Bla"
   ]
  }
 ],
 "metadata": {
  "kernelspec": {
   "display_name": "Python 3",
   "language": "python",
   "name": "python3"
  },
  "language_info": {
   "codemirror_mode": {
    "name": "ipython",
    "version": 3
   },
   "file_extension": ".py",
   "mimetype": "text/x-python",
   "name": "python",
   "nbconvert_exporter": "python",
   "pygments_lexer": "ipython3",
   "version": "3.4.1"
  }
 },
 "nbformat": 4,
 "nbformat_minor": 2
}
