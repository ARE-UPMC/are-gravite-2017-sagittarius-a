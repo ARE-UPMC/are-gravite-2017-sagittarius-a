{
 "cells": [
  {
   "cell_type": "code",
   "execution_count": null,
   "metadata": {
    "collapsed": true
   },
   "outputs": [],
   "source": []
  },
  {
   "cell_type": "code",
   "execution_count": 118,
   "metadata": {
    "collapsed": false
   },
   "outputs": [],
   "source": [
    "import numpy as np\n",
    "from matplotlib import pyplot as plt\n",
    "from matplotlib import animation\n",
    "\n",
    "fig=plt.figure()\n",
    "fig.set_dpi(100)\n",
    "fig.set_size_inches(7,6.5)\n",
    "\n",
    "ax = plt.axes(xlim=(0,10),ylim=(0,10),)\n",
    "\n",
    "size = 0.1\n",
    "xcenter = 5\n",
    "ycenter = 5\n",
    "radius = 4\n",
    "\n",
    "plt.plot(5,5,'.',color='black')\n",
    "\n",
    "patch = plt.Circle((5, -5), size, fc='b')\n",
    "\n",
    "def init():\n",
    "    ax.add_patch(patch)\n",
    "    return patch,\n",
    "\n",
    "def animate(t):\n",
    "    x,y = patch.center\n",
    "    x=xcenter+radius * np.sin(np.radians(t))\n",
    "    y=ycenter+radius * np.cos(np.radians(t))\n",
    "    patch.center=(x,y)\n",
    "    #plt.plot(x,y,'ro')\n",
    "    return patch,\n",
    "\n",
    "anim=animation.FuncAnimation(fig,animate,init_func=init,frames=360,interval=20, blit=True)\n",
    "\n",
    "plt.show()\n",
    "    \n",
    "    \n",
    "    \n",
    "    \n",
    "\n"
   ]
  },
  {
   "cell_type": "code",
   "execution_count": 117,
   "metadata": {
    "collapsed": false
   },
   "outputs": [
    {
     "data": {
      "text/plain": [
       "array([ 1.        ,  1.00142857,  1.00285714,  1.00428571,  1.00571429,\n",
       "        1.00714286,  1.00857143,  1.01      ])"
      ]
     },
     "execution_count": 117,
     "metadata": {},
     "output_type": "execute_result"
    }
   ],
   "source": [
    "x"
   ]
  },
  {
   "cell_type": "code",
   "execution_count": 112,
   "metadata": {
    "collapsed": true
   },
   "outputs": [],
   "source": [
    "x = linspace(1,1.01,8)"
   ]
  },
  {
   "cell_type": "code",
   "execution_count": 34,
   "metadata": {
    "collapsed": false
   },
   "outputs": [
    {
     "data": {
      "text/plain": [
       "array([ 1.        ,  1.00142857,  1.00285714,  1.00428571,  1.00571429,\n",
       "        1.00714286,  1.00857143,  1.01      ])"
      ]
     },
     "execution_count": 34,
     "metadata": {},
     "output_type": "execute_result"
    }
   ],
   "source": [
    "x"
   ]
  },
  {
   "cell_type": "code",
   "execution_count": null,
   "metadata": {
    "collapsed": true
   },
   "outputs": [],
   "source": []
  }
 ],
 "metadata": {
  "kernelspec": {
   "display_name": "Python 3",
   "language": "python",
   "name": "python3"
  },
  "language_info": {
   "codemirror_mode": {
    "name": "ipython",
    "version": 3
   },
   "file_extension": ".py",
   "mimetype": "text/x-python",
   "name": "python",
   "nbconvert_exporter": "python",
   "pygments_lexer": "ipython3",
   "version": "3.4.1"
  }
 },
 "nbformat": 4,
 "nbformat_minor": 0
}
