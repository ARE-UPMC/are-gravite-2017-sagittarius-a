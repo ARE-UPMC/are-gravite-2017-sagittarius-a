{
 "cells": [
  {
   "cell_type": "code",
   "execution_count": 89,
   "metadata": {
    "collapsed": false
   },
   "outputs": [
    {
     "ename": "SyntaxError",
     "evalue": "invalid syntax (<ipython-input-89-d4eb530e0370>, line 29)",
     "output_type": "error",
     "traceback": [
      "\u001b[1;36m  File \u001b[1;32m\"<ipython-input-89-d4eb530e0370>\"\u001b[1;36m, line \u001b[1;32m29\u001b[0m\n\u001b[1;33m    def nvlle(global nom,couleur) :\u001b[0m\n\u001b[1;37m                   ^\u001b[0m\n\u001b[1;31mSyntaxError\u001b[0m\u001b[1;31m:\u001b[0m invalid syntax\n"
     ]
    }
   ],
   "source": [
    "import numpy as np\n",
    "from matplotlib import pyplot as plt\n",
    "from matplotlib import animation\n",
    "\n",
    "global n\n",
    "\n",
    "fig=plt.figure()\n",
    "fig.set_dpi(100)\n",
    "fig.set_size_inches(7,6.5)\n",
    "\n",
    "ax = plt.axes(xlim=(0,10),ylim=(0,10),)\n",
    "\n",
    "size = 0.1\n",
    "xcenter = 5\n",
    "ycenter = 5\n",
    "radius = 4\n",
    "radius2 = 2.7\n",
    "radius3 = 2\n",
    "#1 unité = 10 000 années lumières\n",
    "#1 seconde = 10 million d'années\n",
    "echelledist=10000\n",
    "echelletemps=0.1\n",
    "plt.plot(5,5,'.',color='black')\n",
    "nvlle(soleil,\"b\")\n",
    "patch = plt.Circle((5, -5), size, fc='b')\n",
    "soleil = plt.Circle((5, -5), size, fc='red')\n",
    "saturne = plt.Circle((5, -5), size, fc='yellow')\n",
    "\n",
    "def nvlle(nom,couleur) :\n",
    "    nom = plt.Circle((5, -5), size, fc=couleur)\n",
    "    n+=1\n",
    "\n",
    "def coef(radius,vitesse):\n",
    "    perimetre=radius*3.14159265*2*echelledist\n",
    "    Ttotale=(perimetre/vitesse)*echelletemps\n",
    "    coef=360/(Ttotale/0.02)\n",
    "    return coef\n",
    "\n",
    "def init():\n",
    "    ax.add_patch(patch)\n",
    "    ax.add_patch(soleil)\n",
    "    ax.add_patch(saturne)\n",
    "    return patch,soleil,saturne\n",
    "\n",
    "def animate(t):\n",
    "    x3,y2= saturne.center\n",
    "    x2,y2 = soleil.center\n",
    "    x,y = patch.center\n",
    "    t2=t*coef(radius2,656.37)  #mettre le radius en dizaine de milliers d'années lumières et la vitesse en années lumières/millions d'années\n",
    "    t3=t*3\n",
    "    x3=xcenter+radius3 *np.sin(np.radians(t3))\n",
    "    y3=ycenter+radius3 * np.cos(np.radians(t3))\n",
    "    x2=xcenter+radius2 *np.sin(np.radians(t2))\n",
    "    y2=ycenter+radius2 * np.cos(np.radians(t2))\n",
    "    x=xcenter+radius * np.sin(np.radians(t))"
   ]
  },
  {
   "cell_type": "markdown",
   "metadata": {},
   "source": [
    "Vitesse = 656.37 années lumière par million d'années\n",
    "Distance en 1 rotation = 169646.0031 années lumière"
   ]
  },
  {
   "cell_type": "code",
   "execution_count": null,
   "metadata": {
    "collapsed": true
   },
   "outputs": [],
   "source": []
  }
 ],
 "metadata": {
  "kernelspec": {
   "display_name": "Python 3",
   "language": "python",
   "name": "python3"
  },
  "language_info": {
   "codemirror_mode": {
    "name": "ipython",
    "version": 3
   },
   "file_extension": ".py",
   "mimetype": "text/x-python",
   "name": "python",
   "nbconvert_exporter": "python",
   "pygments_lexer": "ipython3",
   "version": "3.4.1"
  }
 },
 "nbformat": 4,
 "nbformat_minor": 0
}
